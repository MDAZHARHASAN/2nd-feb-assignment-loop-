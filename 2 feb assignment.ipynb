{
 "cells": [
  {
   "cell_type": "code",
   "execution_count": 1,
   "id": "892736cf",
   "metadata": {},
   "outputs": [],
   "source": [
    "#Q1. Explain with an example each when to use a for loop and a while loop."
   ]
  },
  {
   "cell_type": "code",
   "execution_count": 2,
   "id": "8fa2c279",
   "metadata": {},
   "outputs": [
    {
     "name": "stdout",
     "output_type": "stream",
     "text": [
      "apple\n",
      "banana\n",
      "cherry\n",
      "Please enter 'yes' or 'no': yes\n"
     ]
    }
   ],
   "source": [
    "#Ans. A for loop is used when you have a specific number of iterations to perform, and the number of iterations is known beforehand. For example, you might use a for loop to iterate over the elements in a list, like this:\n",
    "\n",
    "l1 = [\"apple\", \"banana\", \"cherry\"]\n",
    "for i in l1:\n",
    "    print(i)\n",
    "    #On the other hand, a while loop is used when you want to keep looping as long as a certain condition is true.\n",
    "    #for example\n",
    "    response = None\n",
    "while response not in [\"yes\", \"no\"]:\n",
    "    response = input(\"Please enter 'yes' or 'no': \")\n"
   ]
  },
  {
   "cell_type": "code",
   "execution_count": null,
   "id": "a175c2a9",
   "metadata": {},
   "outputs": [],
   "source": [
    "#Q2. Write a python program to print the sum and product of the first 10 natural numbers using for and while loop."
   ]
  },
  {
   "cell_type": "code",
   "execution_count": 6,
   "id": "d276aa10",
   "metadata": {},
   "outputs": [
    {
     "name": "stdout",
     "output_type": "stream",
     "text": [
      "Sum of first 10 natural numbers: 55\n",
      "Product of first 10 natural numbers: 3628800\n",
      "Sum of first 10 natural numbers: 55\n",
      "Product of first 10 natural numbers: 3628800\n"
     ]
    }
   ],
   "source": [
    "#Ans# [Program to print sum and product of first 10 natural numbers using for loop]\n",
    "\n",
    "# declaring variables\n",
    "n = 10\n",
    "sum = 0\n",
    "product = 1\n",
    "\n",
    "# Computing sum and product of first n natural numbers\n",
    "for i in range(1, n+1):\n",
    "    sum += i\n",
    "    product *= i\n",
    "\n",
    "# Printing the results\n",
    "print(\"Sum of first\", n, \"natural numbers:\", sum)\n",
    "print(\"Product of first\", n, \"natural numbers:\", product)\n",
    "\n",
    "# [Program to print sum and product of first 10 natural numbers using while loop]\n",
    "# declaring variables\n",
    "n = 10\n",
    "sum = 0\n",
    "product = 1\n",
    "i = 1\n",
    "\n",
    "# Computing sum and product of first n natural numbers\n",
    "while i <= n:\n",
    "    sum += i\n",
    "    product *= i\n",
    "    i += 1\n",
    "\n",
    "# Printing the results\n",
    "print(\"Sum of first\", n, \"natural numbers:\", sum)\n",
    "print(\"Product of first\", n, \"natural numbers:\", product)\n",
    "\n",
    "\n",
    "    \n",
    "    "
   ]
  },
  {
   "cell_type": "code",
   "execution_count": null,
   "id": "857b5e02",
   "metadata": {},
   "outputs": [],
   "source": [
    "Q3. Create a python program to compute the electricity bill for a household.\n",
    "The per-unit charges in rupees are as follows: For the first 100 units, the user will be charged Rs. 4.5 per\n",
    "unit, for the next 100 units, the user will be charged Rs. 6 per unit, and for the next 100 units, the user will\n",
    "be charged Rs. 10 per unit, After 300 units and above the user will be charged Rs. 20 per unit.\n",
    "You are required to take the units of electricity consumed in a month from the user as input.\n",
    "Your program must pass this test case: when the unit of electricity consumed by the user in a month is\n",
    "310, the total electricity bill should be 2250."
   ]
  },
  {
   "cell_type": "code",
   "execution_count": 3,
   "id": "fce18c41",
   "metadata": {},
   "outputs": [
    {
     "name": "stdout",
     "output_type": "stream",
     "text": [
      "Enter the units of electricity consumed: 310\n",
      "Your electricity bill for this month is: Rs. 2250.0\n"
     ]
    }
   ],
   "source": [
    "#Ans.  Program to compute electricity bill for a household\n",
    "\n",
    "units = int(input(\"Enter the units of electricity consumed: \"))\n",
    "bill = 0\n",
    "remaining_units = 0\n",
    "if units <= 100:\n",
    "    bill = units * 4.5\n",
    "elif units <= 200:\n",
    "    bill = 100 * 4.5 + (units - 100) * 6\n",
    "elif units <= 300:\n",
    "    bill = 100 * 4.5 + 100 * 6 + (units - 200) * 10\n",
    "else:\n",
    "    bill = 100 * 4.5 + 100 * 6 + 100 * 10 + (units - 300) * 20\n",
    "\n",
    "# Printing the electricity bill for the user\n",
    "print(\"Your electricity bill for this month is: Rs.\", bill)\n"
   ]
  },
  {
   "cell_type": "code",
   "execution_count": null,
   "id": "8e9dbd3a",
   "metadata": {},
   "outputs": [],
   "source": [
    "Q4. Create a list of numbers from 1 to 100. Use for loop and while loop to calculate the cube of each\n",
    "number and if the cube of that number is divisible by 4 or 5 then append that number in a list and print\n",
    "that list."
   ]
  },
  {
   "cell_type": "code",
   "execution_count": 2,
   "id": "aee382e8",
   "metadata": {},
   "outputs": [
    {
     "name": "stdout",
     "output_type": "stream",
     "text": [
      "List of numbers whose cube is divisible by 4 or 5: [2, 4, 5, 6, 8, 10, 12, 14, 15, 16, 18, 20, 22, 24, 25, 26, 28, 30, 32, 34, 35, 36, 38, 40, 42, 44, 45, 46, 48, 50, 52, 54, 55, 56, 58, 60, 62, 64, 65, 66, 68, 70, 72, 74, 75, 76, 78, 80, 82, 84, 85, 86, 88, 90, 92, 94, 95, 96, 98, 100]\n",
      "List of numbers whose cube is divisible by 4 or 5: [2, 4, 5, 6, 8, 10, 12, 14, 15, 16, 18, 20, 22, 24, 25, 26, 28, 30, 32, 34, 35, 36, 38, 40, 42, 44, 45, 46, 48, 50, 52, 54, 55, 56, 58, 60, 62, 64, 65, 66, 68, 70, 72, 74, 75, 76, 78, 80, 82, 84, 85, 86, 88, 90, 92, 94, 95, 96, 98, 100]\n"
     ]
    }
   ],
   "source": [
    "#Ans.  Program to create a list of cubes of numbers from 1 to 100 that are divisible by 4 or 5\n",
    "\n",
    "result_list = []\n",
    "for num in range(1, 101):\n",
    "    cube = num ** 3\n",
    "    if cube % 4 == 0 or cube % 5 == 0:\n",
    "        result_list.append(num)\n",
    "print(\"List of numbers whose cube is divisible by 4 or 5:\", result_list)\n",
    "# Program to create a list of cubes of numbers from 1 to 100 that are divisible by 4 or 5\n",
    "\n",
    "num = 1\n",
    "result_list = []\n",
    "while num <= 100:\n",
    "    cube = num ** 3\n",
    "    if cube % 4 == 0 or cube % 5 == 0:\n",
    "        result_list.append(num)\n",
    "    num += 1\n",
    "print(\"List of numbers whose cube is divisible by 4 or 5:\", result_list)\n"
   ]
  },
  {
   "cell_type": "code",
   "execution_count": null,
   "id": "271276de",
   "metadata": {},
   "outputs": [],
   "source": [
    "Q5. Write a program to filter count vowels in the below-given string.\n",
    "string = \"I want to become a data scientist\""
   ]
  },
  {
   "cell_type": "code",
   "execution_count": 4,
   "id": "84aebf76",
   "metadata": {},
   "outputs": [
    {
     "name": "stdout",
     "output_type": "stream",
     "text": [
      "The number of vowels in the string are: 12\n"
     ]
    }
   ],
   "source": [
    "#Ans. Program to filter and count vowels in a given string\n",
    "\n",
    "string = \"I want to become a data scientist\"\n",
    "vowels = \"aeiouAEIOU\"\n",
    "count = 0\n",
    "\n",
    "for char in string:\n",
    "    if char in vowels:\n",
    "        count += 1\n",
    "\n",
    "print(\"The number of vowels in the string are:\", count)\n"
   ]
  },
  {
   "cell_type": "code",
   "execution_count": null,
   "id": "ed38563e",
   "metadata": {},
   "outputs": [],
   "source": []
  }
 ],
 "metadata": {
  "kernelspec": {
   "display_name": "Python 3 (ipykernel)",
   "language": "python",
   "name": "python3"
  },
  "language_info": {
   "codemirror_mode": {
    "name": "ipython",
    "version": 3
   },
   "file_extension": ".py",
   "mimetype": "text/x-python",
   "name": "python",
   "nbconvert_exporter": "python",
   "pygments_lexer": "ipython3",
   "version": "3.9.13"
  }
 },
 "nbformat": 4,
 "nbformat_minor": 5
}
